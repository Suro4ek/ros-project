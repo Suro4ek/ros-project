{
 "cells": [
  {
   "cell_type": "code",
   "execution_count": 31,
   "metadata": {},
   "outputs": [],
   "source": [
    "import numpy as np\n",
    "inf = INT_INF = np.inf\n",
    "ranges = (0.8202599287033081, 0.8276249766349792, 0.8473363518714905, 0.8602465987205505, 0.8847930431365967, 0.9244561195373535, 0.9389760494232178, 0.9737744927406311, 1.0373716354370117, 1.0747957229614258, 1.1422957181930542, 1.212215542793274, 1.3186790943145752, 1.4020243883132935, 1.5455601215362549, 1.6750497817993164, 1.8806216716766357, inf, inf, inf, inf, inf, inf, inf, inf, inf, inf, inf, inf, inf, inf, inf, inf, inf, inf, 1.8725039958953857, 1.7277874946594238, 1.5919488668441772, 1.4867066144943237, 1.4110376834869385, 1.3371251821517944, 1.2686889171600342, 1.2392841577529907, 1.1663861274719238, 1.1422635316848755, 1.0883042812347412, 1.0683152675628662, 1.043624997138977, 1.0074288845062256, 1.0106991529464722)\n",
    "inf = 0\n",
    "ranges = (0.8202599287033081, 0.8276249766349792, 0.8473363518714905, 0.8602465987205505, 0.8847930431365967, 0.9244561195373535, 0.9389760494232178, 0.9737744927406311, 1.0373716354370117, 1.0747957229614258, 1.1422957181930542, 1.212215542793274, 1.3186790943145752, 1.4020243883132935, 1.5455601215362549, 1.6750497817993164, 1.8806216716766357, inf, inf, inf, inf, inf, inf, inf, inf, inf, inf, inf, inf, inf, inf, inf, inf, inf, inf, 1.8725039958953857, 1.7277874946594238, 1.5919488668441772, 1.4867066144943237, 1.4110376834869385, 1.3371251821517944, 1.2686889171600342, 1.2392841577529907, 1.1663861274719238, 1.1422635316848755, 1.0883042812347412, 1.0683152675628662, 1.043624997138977, 1.0074288845062256, 1.0106991529464722)"
   ]
  },
  {
   "cell_type": "code",
   "execution_count": 32,
   "metadata": {},
   "outputs": [
    {
     "data": {
      "text/plain": "50"
     },
     "execution_count": 32,
     "metadata": {},
     "output_type": "execute_result"
    }
   ],
   "source": [
    "len(ranges)"
   ]
  },
  {
   "cell_type": "code",
   "execution_count": 33,
   "metadata": {},
   "outputs": [],
   "source": [
    "info = {}\n",
    "grad = 20+2.8\n",
    "for i in ranges:\n",
    "    info[grad] = i\n",
    "    grad += 2.8"
   ]
  },
  {
   "cell_type": "code",
   "execution_count": 34,
   "metadata": {},
   "outputs": [
    {
     "name": "stdout",
     "output_type": "stream",
     "text": [
      "70.39999999999996\n",
      "73.19999999999996\n",
      "75.99999999999996\n",
      "78.79999999999995\n",
      "81.59999999999995\n",
      "84.39999999999995\n",
      "87.19999999999995\n",
      "89.99999999999994\n",
      "92.79999999999994\n",
      "95.59999999999994\n",
      "98.39999999999993\n",
      "101.19999999999993\n",
      "103.99999999999993\n",
      "106.79999999999993\n",
      "109.59999999999992\n",
      "112.39999999999992\n",
      "115.19999999999992\n",
      "117.99999999999991\n"
     ]
    }
   ],
   "source": [
    "for i in info:\n",
    "    if info[i] == inf:\n",
    "        print(i)"
   ]
  },
  {
   "cell_type": "code",
   "execution_count": 35,
   "metadata": {},
   "outputs": [
    {
     "name": "stdout",
     "output_type": "stream",
     "text": [
      "[ 20.   22.8  25.6  28.4  31.2  34.   36.8  39.6  42.4  45.2  48.   50.8\n",
      "  53.6  56.4  59.2  62.   64.8  67.6  70.4  73.2  76.   78.8  81.6  84.4\n",
      "  87.2  90.   92.8  95.6  98.4 101.2 104.  106.8 109.6 112.4 115.2 118.\n",
      " 120.8 123.6 126.4 129.2 132.  134.8 137.6 140.4 143.2 146.  148.8 151.6\n",
      " 154.4 157.2]\n"
     ]
    }
   ],
   "source": [
    "delta_theta = np.deg2rad(2.8)\n",
    "angles = 20+ np.arange(len(ranges)) * 2.8\n",
    "print(angles)\n",
    "angles = np.deg2rad(angles)  # Перевод в радианы"
   ]
  },
  {
   "cell_type": "code",
   "execution_count": 36,
   "metadata": {},
   "outputs": [
    {
     "name": "stdout",
     "output_type": "stream",
     "text": [
      "0\n",
      "0.0\n"
     ]
    }
   ],
   "source": [
    "def find_largest_inf_gap(angles, values):\n",
    "    max_gap_size = 0\n",
    "    max_gap_middle = 0\n",
    "\n",
    "    i = 0\n",
    "    while i < len(values):\n",
    "        if np.isinf(values[i]):\n",
    "            start_index = i\n",
    "\n",
    "            while i < len(values) and np.isinf(values[i]):\n",
    "                i += 1\n",
    "\n",
    "            end_index = i - 1\n",
    "\n",
    "            gap_size = end_index - start_index + 1\n",
    "            if gap_size > max_gap_size:\n",
    "                max_gap_size = gap_size\n",
    "                max_gap_middle = (angles[start_index] + angles[end_index]) / 2\n",
    "        else:\n",
    "            i += 1\n",
    "\n",
    "    return max_gap_middle\n",
    "\n",
    "largest_inf_gap_middle = find_largest_inf_gap(angles, ranges)\n",
    "largest_inf_gap_middle_deg = np.rad2deg(largest_inf_gap_middle)\n",
    "print(largest_inf_gap_middle)\n",
    "print(largest_inf_gap_middle_deg)\n"
   ]
  },
  {
   "cell_type": "code",
   "execution_count": 67,
   "metadata": {},
   "outputs": [],
   "source": [
    "control_speed = 5\n",
    "last_angle = 115\n",
    "def calculate_wheel_speeds(target_angle, max_wheel_speed):\n",
    "        global control_speed, last_angle\n",
    "        current_angle = target_angle\n",
    "        if target_angle == 0:\n",
    "            target_angle = last_angle\n",
    "        target_angle_rad = np.deg2rad(target_angle)\n",
    "        if not 86 <= target_angle <= 95:\n",
    "            if control_speed - 0.1 > 10:\n",
    "                control_speed -= 0.05\n",
    "        else:\n",
    "            if max_wheel_speed > control_speed:\n",
    "                control_speed = min(max_wheel_speed, control_speed + 0.05)\n",
    "            elif max_wheel_speed < control_speed:\n",
    "                control_speed = max(max_wheel_speed, control_speed - 0.05)\n",
    "            else:\n",
    "                control_speed = max_wheel_speed\n",
    "\n",
    "        if target_angle_rad < np.pi / 2:\n",
    "            if 20 <= target_angle <= 50:\n",
    "                left_wheel_speed = control_speed * (1 - (target_angle_rad - np.pi / 2) / (np.pi / 2))\n",
    "                right_wheel_speed = control_speed\n",
    "            else:\n",
    "                left_wheel_speed = control_speed * (1 - (target_angle_rad - np.pi / 2) / (np.pi / 2))\n",
    "                right_wheel_speed = control_speed\n",
    "        else:\n",
    "            if 130 <= target_angle <= 160:\n",
    "                left_wheel_speed = control_speed\n",
    "                right_wheel_speed = control_speed * (1 - (np.pi - target_angle_rad - np.pi / 2) / (np.pi / 2))\n",
    "            else:\n",
    "                left_wheel_speed = control_speed\n",
    "                right_wheel_speed = control_speed * (1 - (np.pi - target_angle_rad - np.pi / 2) / (np.pi / 2))\n",
    "        if target_angle != 0:\n",
    "            last_angle = target_angle\n",
    "        if current_angle == 0:\n",
    "            left_wheel_speed = -left_wheel_speed\n",
    "            right_wheel_speed = - right_wheel_speed\n",
    "        return left_wheel_speed, right_wheel_speed"
   ]
  },
  {
   "cell_type": "code",
   "execution_count": 68,
   "metadata": {},
   "outputs": [
    {
     "data": {
      "text/plain": "(-5, -6.388888888888888)"
     },
     "execution_count": 68,
     "metadata": {},
     "output_type": "execute_result"
    }
   ],
   "source": [
    "left_wheel_speed, right_wheel_speed = calculate_wheel_speeds(0, 10)\n",
    "left_wheel_speed, right_wheel_speed"
   ]
  },
  {
   "cell_type": "code",
   "execution_count": null,
   "outputs": [],
   "source": [],
   "metadata": {
    "collapsed": false
   }
  }
 ],
 "metadata": {
  "kernelspec": {
   "display_name": "Python 3",
   "language": "python",
   "name": "python3"
  },
  "language_info": {
   "codemirror_mode": {
    "name": "ipython",
    "version": 3
   },
   "file_extension": ".py",
   "mimetype": "text/x-python",
   "name": "python",
   "nbconvert_exporter": "python",
   "pygments_lexer": "ipython3",
   "version": "3.11.2"
  }
 },
 "nbformat": 4,
 "nbformat_minor": 2
}
