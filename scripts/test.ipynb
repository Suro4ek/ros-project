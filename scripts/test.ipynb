{
 "cells": [
  {
   "cell_type": "code",
   "execution_count": 70,
   "metadata": {},
   "outputs": [],
   "source": [
    "import numpy as np\n",
    "inf = INT_INF = np.iinfo(np.int32).max\n",
    "ranges = (0.8202599287033081, 0.8276249766349792, 0.8473363518714905, 0.8602465987205505, 0.8847930431365967, 0.9244561195373535, 0.9389760494232178, 0.9737744927406311, 1.0373716354370117, 1.0747957229614258, 1.1422957181930542, 1.212215542793274, 1.3186790943145752, 1.4020243883132935, 1.5455601215362549, 1.6750497817993164, 1.8806216716766357, inf, inf, inf, inf, inf, inf, inf, inf, inf, inf, inf, inf, inf, inf, inf, inf, inf, inf, 1.8725039958953857, 1.7277874946594238, 1.5919488668441772, 1.4867066144943237, 1.4110376834869385, 1.3371251821517944, 1.2686889171600342, 1.2392841577529907, 1.1663861274719238, 1.1422635316848755, 1.0883042812347412, 1.0683152675628662, 1.043624997138977, 1.0074288845062256, 1.0106991529464722)"
   ]
  },
  {
   "cell_type": "code",
   "execution_count": 71,
   "metadata": {},
   "outputs": [
    {
     "data": {
      "text/plain": [
       "50"
      ]
     },
     "execution_count": 71,
     "metadata": {},
     "output_type": "execute_result"
    }
   ],
   "source": [
    "len(ranges)"
   ]
  },
  {
   "cell_type": "code",
   "execution_count": 72,
   "metadata": {},
   "outputs": [],
   "source": [
    "info = {}\n",
    "grad = 20+2.8\n",
    "for i in ranges:\n",
    "    info[grad] = i\n",
    "    grad += 2.8"
   ]
  },
  {
   "cell_type": "code",
   "execution_count": 73,
   "metadata": {},
   "outputs": [
    {
     "name": "stdout",
     "output_type": "stream",
     "text": [
      "70.39999999999996\n",
      "73.19999999999996\n",
      "75.99999999999996\n",
      "78.79999999999995\n",
      "81.59999999999995\n",
      "84.39999999999995\n",
      "87.19999999999995\n",
      "89.99999999999994\n",
      "92.79999999999994\n",
      "95.59999999999994\n",
      "98.39999999999993\n",
      "101.19999999999993\n",
      "103.99999999999993\n",
      "106.79999999999993\n",
      "109.59999999999992\n",
      "112.39999999999992\n",
      "115.19999999999992\n",
      "117.99999999999991\n"
     ]
    }
   ],
   "source": [
    "for i in info:\n",
    "    if info[i] == inf:\n",
    "        print(i)"
   ]
  },
  {
   "cell_type": "code",
   "execution_count": 74,
   "metadata": {},
   "outputs": [],
   "source": [
    "def follow_the_gap(data, threshold_distance=1):\n",
    "        gaps = []\n",
    "        current_gap = []\n",
    "        angle_increment = 2.8\n",
    "        for i, distance in enumerate(data):\n",
    "            angle = i * angle_increment - 2.8 / 2 \n",
    "            if distance > threshold_distance:\n",
    "                current_gap.append(angle)\n",
    "            elif current_gap:\n",
    "                gaps.append(current_gap)\n",
    "                current_gap = []\n",
    "        if not gaps:\n",
    "            return None \n",
    "        largest_gap = max(gaps, key=len)\n",
    "        gap_center_angle = sum(largest_gap) / len(largest_gap)\n",
    "        return gap_center_angle"
   ]
  },
  {
   "cell_type": "code",
   "execution_count": 75,
   "metadata": {},
   "outputs": [],
   "source": [
    "def polar_distance(r1, r2, delta_theta):\n",
    "    # Игнорируем бесконечные значения\n",
    "    if np.isinf(r1) or np.isinf(r2):\n",
    "        return 0\n",
    "    return np.sqrt(r1**2 + r2**2 - 2 * r1 * r2 * np.cos(delta_theta))"
   ]
  },
  {
   "cell_type": "code",
   "execution_count": 142,
   "metadata": {},
   "outputs": [
    {
     "name": "stdout",
     "output_type": "stream",
     "text": [
      "90.0\n",
      "[0.04092912528835321, 0.04542019938835022, 0.043670710424597955, 0.049192699387770975, 0.05938185874289879, 0.04778571537283619, 0.058259338415399625, 0.0803529438339187, 0.0637399933109678, 0.08653174116730124, 0.09052671269102888, 0.12309070778023742, 0.10658758347428463, 0.16055061414945668, 0.15148970478534085, 0.22311758964833198, 0, 0, 0, 0, 0, 0, 0, 0, 0, 0, 0, 0, 0, 0, 0, 0, 0, 0, 0, 0.16931582074456258, 0.1581761331935531, 0.12933331598907136, 0.1036086629547389, 0.09984017447302655, 0.09345613839134231, 0.06796160232870317, 0.09362446903481765, 0.06134423059542509, 0.07668020852500662, 0.05635294555359957, 0.05719906818429484, 0.061810681590741524, 0.049415529237321634]\n"
     ]
    },
    {
     "data": {
      "text/plain": [
       "(0.22311758964833198, 63.4)"
      ]
     },
     "execution_count": 142,
     "metadata": {},
     "output_type": "execute_result"
    }
   ],
   "source": [
    "# Угловая разность между точками в радианах\n",
    "delta_theta = np.deg2rad(2.8)\n",
    "\n",
    "# Вычисляем расстояния между последовательными точками\n",
    "spatial_differences = [polar_distance(ranges[i], ranges[i+1], delta_theta) for i in range(len(ranges) - 1)]\n",
    "angles = 20+ np.arange(len(ranges)) * 2.8\n",
    "print(angles[25])\n",
    "angles = np.deg2rad(angles)  # Перевод в радианы\n",
    "# Находим индекс и значение максимального промежутка\n",
    "print(spatial_differences)\n",
    "max_gap_index = np.argmax(spatial_differences)\n",
    "max_gap_value = spatial_differences[max_gap_index]\n",
    "\n",
    "# Вычисляем середину максимального gap\n",
    "middle_of_max_gap = (angles[max_gap_index] + angles[max_gap_index + 1]) / 2\n",
    "middle_of_max_gap = np.rad2deg(middle_of_max_gap)  # Перевод обратно в градусы\n",
    "\n",
    "max_gap_value, middle_of_max_gap"
   ]
  },
  {
   "cell_type": "code",
   "execution_count": 79,
   "metadata": {},
   "outputs": [
    {
     "data": {
      "text/plain": [
       "91.39999999999999"
      ]
     },
     "execution_count": 79,
     "metadata": {},
     "output_type": "execute_result"
    }
   ],
   "source": [
    "def find_largest_inf_gap(angles, values):\n",
    "    max_gap_size = 0\n",
    "    max_gap_middle = 0\n",
    "\n",
    "    i = 0\n",
    "    while i < len(values):\n",
    "        # Начало группы 'inf'\n",
    "        if np.isinf(values[i]):\n",
    "            start_index = i\n",
    "\n",
    "            # Ищем конец группы 'inf'\n",
    "            while i < len(values) and np.isinf(values[i]):\n",
    "                i += 1\n",
    "\n",
    "            # Конец группы 'inf'\n",
    "            end_index = i - 1\n",
    "\n",
    "            # Вычисляем размер и середину группы 'inf'\n",
    "            gap_size = end_index - start_index + 1\n",
    "            if gap_size > max_gap_size:\n",
    "                max_gap_size = gap_size\n",
    "                max_gap_middle = (angles[start_index] + angles[end_index]) / 2\n",
    "        else:\n",
    "            i += 1\n",
    "\n",
    "    return max_gap_middle\n",
    "\n",
    "# Находим середину наибольшего промежутка 'inf'\n",
    "largest_inf_gap_middle = find_largest_inf_gap(angles, ranges)\n",
    "largest_inf_gap_middle_deg = np.rad2deg(largest_inf_gap_middle)  # Перевод в градусы\n",
    "\n",
    "largest_inf_gap_middle_deg\n"
   ]
  },
  {
   "cell_type": "code",
   "execution_count": 139,
   "metadata": {},
   "outputs": [
    {
     "name": "stdout",
     "output_type": "stream",
     "text": [
      "3.141592653589793\n"
     ]
    }
   ],
   "source": [
    "max_wheel_speed = 10\n",
    "target_angle = 0\n",
    "target_angle_rad = np.deg2rad(target_angle)\n",
    "print(np.pi)\n",
    "# Расчет разности скоростей для достижения угла\n",
    "    # Это упрощенный пример, который нужно настроить в соответствии с вашей конкретной системой\n",
    "if target_angle_rad < np.pi / 2:\n",
    "        # Поворот влево\n",
    "        left_wheel_speed = max_wheel_speed * (1 - (target_angle_rad - np.pi / 2) / (np.pi / 2))\n",
    "        right_wheel_speed = max_wheel_speed\n",
    "else:\n",
    "        # Поворот вправо\n",
    "        left_wheel_speed = max_wheel_speed\n",
    "        right_wheel_speed = max_wheel_speed * (1 - (np.pi - target_angle_rad - np.pi / 2) / (np.pi / 2))"
   ]
  },
  {
   "cell_type": "code",
   "execution_count": 140,
   "metadata": {},
   "outputs": [
    {
     "data": {
      "text/plain": [
       "(20.0, 10)"
      ]
     },
     "execution_count": 140,
     "metadata": {},
     "output_type": "execute_result"
    }
   ],
   "source": [
    "left_wheel_speed, right_wheel_speed"
   ]
  }
 ],
 "metadata": {
  "kernelspec": {
   "display_name": "Python 3",
   "language": "python",
   "name": "python3"
  },
  "language_info": {
   "codemirror_mode": {
    "name": "ipython",
    "version": 3
   },
   "file_extension": ".py",
   "mimetype": "text/x-python",
   "name": "python",
   "nbconvert_exporter": "python",
   "pygments_lexer": "ipython3",
   "version": "3.11.2"
  }
 },
 "nbformat": 4,
 "nbformat_minor": 2
}
